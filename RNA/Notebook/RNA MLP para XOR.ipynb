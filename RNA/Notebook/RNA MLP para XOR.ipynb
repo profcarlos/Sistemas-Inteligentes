{
 "cells": [
  {
   "cell_type": "markdown",
   "metadata": {},
   "source": [
    "<h1> Um Rede Neural para o problema XOR </h1>\n",
    "<h2> Inicialmente importa a biblioteca tensorflow </h2> "
   ]
  },
  {
   "cell_type": "code",
   "execution_count": 7,
   "metadata": {},
   "outputs": [
    {
     "name": "stdout",
     "output_type": "stream",
     "text": [
      "1.12.0\n"
     ]
    },
    {
     "name": "stderr",
     "output_type": "stream",
     "text": [
      "C:\\Users\\carlos\\Anaconda3\\lib\\site-packages\\tensorflow\\python\\client\\session.py:1702: UserWarning: An interactive session is already active. This can cause out-of-memory errors in some cases. You must explicitly call `InteractiveSession.close()` to release resources held by the other session(s).\n",
      "  warnings.warn('An interactive session is already active. This can '\n"
     ]
    }
   ],
   "source": [
    "import tensorflow as tf\n",
    "sess = tf.InteractiveSession()\n",
    "print(tf.__version__) "
   ]
  },
  {
   "cell_type": "markdown",
   "metadata": {},
   "source": [
    "<h2> Define as entradas e saídas </h2> "
   ]
  },
  {
   "cell_type": "code",
   "execution_count": 8,
   "metadata": {},
   "outputs": [],
   "source": [
    "# Desired input output mapping of XOR function:\n",
    "x_ = [[0, 0], [0, 1], [1, 0], [1, 1]] # input\n",
    "#labels=[0,      1,      1,      0]   # output =>\n",
    "expect=[[1,0],  [0,1],  [0,1], [1,0]] # ONE HOT REPRESENTATION! 'class' [1,0]==0 [0,1]==1"
   ]
  },
  {
   "cell_type": "markdown",
   "metadata": {},
   "source": [
    "<h2> Cria as variáveis da rede </h2> "
   ]
  },
  {
   "cell_type": "code",
   "execution_count": 9,
   "metadata": {},
   "outputs": [],
   "source": [
    "# x = tf.Variable(x_)\n",
    "x = tf.placeholder(\"float\", [None,2]) #  can we feed directly?\n",
    "y_ = tf.placeholder(\"float\", [None, 2]) # two output classes\n",
    "\n",
    "number_hidden_nodes = 20 # 20 outputs to create some room for negatives and positives\n",
    "\n",
    "W = tf.Variable(tf.random_uniform([2, number_hidden_nodes], -.01, .01))\n",
    "b = tf.Variable(tf.random_uniform([number_hidden_nodes], -.01, .01))\n",
    "hidden  = tf.nn.relu(tf.matmul(x,W) + b) # first layer.\n",
    "\n",
    " # the XOR function is the first nontrivial function, for which a two layer network is needed.\n",
    "W2 = tf.Variable(tf.random_uniform([number_hidden_nodes,2], -.1, .1))\n",
    "b2 = tf.Variable(tf.zeros([2]))\n",
    "hidden2 = tf.matmul(hidden, W2)#+b2\n",
    "\n",
    "y = tf.nn.softmax(hidden2)"
   ]
  },
  {
   "cell_type": "markdown",
   "metadata": {},
   "source": [
    "<h2> Define loss e optmizer </h2> "
   ]
  },
  {
   "cell_type": "code",
   "execution_count": 10,
   "metadata": {},
   "outputs": [],
   "source": [
    "cross_entropy = -tf.reduce_sum(y_*tf.log(y))\n",
    "train_step = tf.train.GradientDescentOptimizer(0.2).minimize(cross_entropy)"
   ]
  },
  {
   "cell_type": "markdown",
   "metadata": {},
   "source": [
    "<h2> Executa fase de treinamento </h2> "
   ]
  },
  {
   "cell_type": "code",
   "execution_count": 16,
   "metadata": {},
   "outputs": [
    {
     "name": "stdout",
     "output_type": "stream",
     "text": [
      "step 0 : entropy 2.77 \n",
      "step 1 : entropy 2.77 \n",
      "step 2 : entropy 2.77 \n",
      "step 3 : entropy 2.77 \n",
      "step 4 : entropy 2.77 \n",
      "step 5 : entropy 2.77 \n",
      "step 6 : entropy 2.77 \n",
      "step 7 : entropy 2.77 \n",
      "step 8 : entropy 2.77 \n",
      "step 9 : entropy 2.77 \n",
      "step 10 : entropy 2.77 \n",
      "step 11 : entropy 2.77 \n",
      "step 12 : entropy 2.77 \n",
      "step 13 : entropy 2.76 \n",
      "step 14 : entropy 2.76 \n",
      "step 15 : entropy 2.76 \n",
      "step 16 : entropy 2.76 \n",
      "step 17 : entropy 2.76 \n",
      "step 18 : entropy 2.75 \n",
      "step 19 : entropy 2.75 \n",
      "step 20 : entropy 2.74 \n",
      "step 21 : entropy 2.74 \n",
      "step 22 : entropy 2.73 \n",
      "step 23 : entropy 2.73 \n",
      "step 24 : entropy 2.72 \n",
      "step 25 : entropy 2.71 \n",
      "step 26 : entropy 2.70 \n",
      "step 27 : entropy 2.68 \n",
      "step 28 : entropy 2.67 \n",
      "step 29 : entropy 2.64 \n",
      "step 30 : entropy 2.64 \n",
      "step 31 : entropy 2.60 \n",
      "step 32 : entropy 2.60 \n",
      "step 33 : entropy 2.53 \n",
      "step 34 : entropy 2.51 \n",
      "step 35 : entropy 2.48 \n",
      "step 36 : entropy 2.45 \n",
      "step 37 : entropy 2.36 \n",
      "step 38 : entropy 2.31 \n",
      "step 39 : entropy 2.27 \n",
      "step 40 : entropy 2.21 \n",
      "step 41 : entropy 2.20 \n",
      "step 42 : entropy 2.08 \n",
      "step 43 : entropy 2.02 \n",
      "step 44 : entropy 2.02 \n",
      "step 45 : entropy 1.86 \n",
      "step 46 : entropy 1.75 \n",
      "step 47 : entropy 1.67 \n",
      "step 48 : entropy 1.64 \n",
      "step 49 : entropy 1.54 \n",
      "step 50 : entropy 1.42 \n",
      "step 51 : entropy 1.38 \n",
      "step 52 : entropy 1.36 \n",
      "step 53 : entropy 1.25 \n",
      "step 54 : entropy 1.11 \n",
      "step 55 : entropy 1.00 \n",
      "step 56 : entropy 1.00 \n",
      "step 57 : entropy 0.87 \n",
      "step 58 : entropy 0.79 \n",
      "step 59 : entropy 0.79 \n",
      "step 60 : entropy 0.71 \n",
      "step 61 : entropy 0.63 \n",
      "step 62 : entropy 0.57 \n",
      "step 63 : entropy 0.53 \n",
      "step 64 : entropy 0.50 \n",
      "step 65 : entropy 0.49 \n",
      "step 66 : entropy 0.43 \n",
      "step 67 : entropy 0.39 \n",
      "step 68 : entropy 0.36 \n",
      "step 69 : entropy 0.33 \n",
      "step 70 : entropy 0.32 \n",
      "step 71 : entropy 0.30 \n",
      "step 72 : entropy 0.27 \n",
      "step 73 : entropy 0.27 \n",
      "step 74 : entropy 0.25 \n",
      "step 75 : entropy 0.23 \n",
      "step 76 : entropy 0.22 \n",
      "step 77 : entropy 0.21 \n",
      "step 78 : entropy 0.20 \n",
      "step 79 : entropy 0.18 \n",
      "step 80 : entropy 0.18 \n",
      "step 81 : entropy 0.17 \n",
      "step 82 : entropy 0.16 \n",
      "step 83 : entropy 0.15 \n",
      "step 84 : entropy 0.15 \n",
      "step 85 : entropy 0.14 \n",
      "step 86 : entropy 0.14 \n",
      "step 87 : entropy 0.13 \n",
      "step 88 : entropy 0.12 \n",
      "step 89 : entropy 0.12 \n",
      "step 90 : entropy 0.12 \n",
      "step 91 : entropy 0.11 \n",
      "step 92 : entropy 0.11 \n",
      "step 93 : entropy 0.10 \n"
     ]
    }
   ],
   "source": [
    "tf.initialize_all_variables().run()\n",
    "list_train= []\n",
    "for step in range(1000):\n",
    "    feed_dict={x: x_, y_:expect } # feed the net with our inputs and desired outputs.\n",
    "    error,a=sess.run([cross_entropy,train_step],feed_dict)\n",
    "    if error < 0.1:break # early stopping yay\n",
    "    list_train.append([step, error])\n",
    "    print(\"step %d : entropy %.2f \" % (step,error)) # error/loss should decrease over time"
   ]
  },
  {
   "cell_type": "markdown",
   "metadata": {},
   "source": [
    "<h2> Plota gráfico da relação passo e entropia </h2>"
   ]
  },
  {
   "cell_type": "code",
   "execution_count": 17,
   "metadata": {},
   "outputs": [
    {
     "data": {
      "text/plain": [
       "[<matplotlib.lines.Line2D at 0xcc1ec0278>]"
      ]
     },
     "execution_count": 17,
     "metadata": {},
     "output_type": "execute_result"
    },
    {
     "data": {
      "image/png": "[encoded data removed]",
      "text/plain": [
       "<Figure size 432x288 with 1 Axes>"
      ]
     },
     "metadata": {},
     "output_type": "display_data"
    }
   ],
   "source": [
    "import matplotlib.pyplot as plt\n",
    "import numpy as np\n",
    "array_train = np.asarray(list_train)\n",
    "#print(array_train)\n",
    "plt.plot(array_train[:,0],array_train[:,1], 'ro')"
   ]
  },
  {
   "cell_type": "markdown",
   "metadata": {},
   "source": [
    "<h2> Avalia treinamento realizado </h2> "
   ]
  },
  {
   "cell_type": "code",
   "execution_count": 18,
   "metadata": {},
   "outputs": [
    {
     "name": "stdout",
     "output_type": "stream",
     "text": [
      "accuracy 1.0\n",
      "[0 1 1 0]\n"
     ]
    }
   ],
   "source": [
    "correct_prediction = tf.equal(tf.argmax(y,1), tf.argmax(y_,1)) # argmax along dim-1\n",
    "accuracy = tf.reduce_mean(tf.cast(correct_prediction, \"float\")) # [True, False, True, True] -> [1,0,1,1] -> 0.75.\n",
    "\n",
    "print(\"accuracy %s\"%(accuracy.eval({x: x_, y_: expect})))\n",
    "\n",
    "learned_output=tf.argmax(y,1)\n",
    "print(learned_output.eval({x: x_}))"
   ]
  }
 ],
 "metadata": {
  "kernelspec": {
   "display_name": "Python 3",
   "language": "python",
   "name": "python3"
  },
  "language_info": {
   "codemirror_mode": {
    "name": "ipython",
    "version": 3
   },
   "file_extension": ".py",
   "mimetype": "text/x-python",
   "name": "python",
   "nbconvert_exporter": "python",
   "pygments_lexer": "ipython3",
   "version": "3.6.5"
  }
 },
 "nbformat": 4,
 "nbformat_minor": 2
}
