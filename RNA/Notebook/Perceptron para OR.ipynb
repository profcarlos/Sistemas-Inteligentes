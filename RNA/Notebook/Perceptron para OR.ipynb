{
 "cells": [
  {
   "cell_type": "markdown",
   "metadata": {},
   "source": [
    "<h1> Algoritmo do perceptron para duas entradas </h1> \n",
    "<h2> <br> Curso: Engenharia Elétrica <br> Disciplina: Sistemas Inteligentes<br>Professor: Carlos Roberto Jr </h2>"
   ]
  },
  {
   "cell_type": "markdown",
   "metadata": {},
   "source": [
    "<h2> Importa bibliotecas </h2> "
   ]
  },
  {
   "cell_type": "code",
   "execution_count": 4,
   "metadata": {},
   "outputs": [],
   "source": [
    "from random import choice\n",
    "from numpy import array, dot, random, set_printoptions\n",
    "import time"
   ]
  },
  {
   "cell_type": "markdown",
   "metadata": {},
   "source": [
    "<h2> Armazena dados de teste e treinamento </h2> "
   ]
  },
  {
   "cell_type": "code",
   "execution_count": 5,
   "metadata": {},
   "outputs": [
    {
     "name": "stdout",
     "output_type": "stream",
     "text": [
      "training_data\n",
      "[(array([0, 0]), 0), (array([0, 1]), 0), (array([1, 0]), 0), (array([1, 1]), 1)]\n",
      "test_data\n",
      "[(array([0, 0]), 0), (array([0, 1]), 0), (array([1, 0]), 0), (array([1, 1]), 1)]\n"
     ]
    }
   ],
   "source": [
    "training_data = [\n",
    "    (array([0,0]), 0),\n",
    "    (array([0,1]), 0),\n",
    "    (array([1,0]), 0),\n",
    "    (array([1,1]), 1),\n",
    "]\n",
    "\n",
    "test_data = [\n",
    "    (array([0,0]), 0),\n",
    "    (array([0,1]), 0),\n",
    "    (array([1,0]), 0),\n",
    "    (array([1,1]), 1),\n",
    "]\n",
    "print(\"training_data\")\n",
    "print(training_data)\n",
    "print(\"test_data\")\n",
    "print(test_data)"
   ]
  },
  {
   "cell_type": "markdown",
   "metadata": {},
   "source": [
    "<h2> Define variáveis </h2> "
   ]
  },
  {
   "cell_type": "code",
   "execution_count": 6,
   "metadata": {},
   "outputs": [],
   "source": [
    "# Define variável peso com valores aleatorios\n",
    "w = random.rand(2)/2 -0.5\n",
    "\n",
    "# Define a taxa de aprendizagem\n",
    "a = 0.2\n",
    "# Define o critério de parada\n",
    "STOP = 0.01\n",
    "# Cria variável para contar iterações\n",
    "it = 0\n",
    "# Cria a variável do erro quadrático médio\n",
    "MSE = float(0.0)\n",
    "# Cria a função degrau unitário\n",
    "unit_step = lambda x: 0 if x <= 0.5 else 1\n",
    "# E a magia de formatação de vetores acontece...\n",
    "set_printoptions(precision=4)"
   ]
  },
  {
   "cell_type": "markdown",
   "metadata": {},
   "source": [
    "<h2> Etapa de Treinamento </h2> \n",
    "<p>  Observações:Aprender uma lógica OR para o algoritmo é mais fácil do que aprender uma lógica AND.\n",
    "Nos testes com logica AND são muitas iterações e não obtem um MSE satisfatório. O que pode ser feito para solucionar? </p>"
   ]
  },
  {
   "cell_type": "code",
   "execution_count": 7,
   "metadata": {},
   "outputs": [
    {
     "name": "stdout",
     "output_type": "stream",
     "text": [
      "\n",
      "---------- Iteracao:  1\n",
      "x: [1 1] w: [-0.3868 -0.0012] \t sum: -0.3881 \t -> y: 0 e: 1\n",
      "w : [-0.1868  0.1988]\n",
      "x: [1 0] w: [-0.1868  0.1988] \t sum: -0.1868 \t -> y: 0 e: 0\n",
      "w : [-0.1868  0.1988]\n",
      "x: [0 0] w: [-0.1868  0.1988] \t sum: 0.0 \t -> y: 0 e: 0\n",
      "w : [-0.1868  0.1988]\n",
      "x: [1 0] w: [-0.1868  0.1988] \t sum: -0.1868 \t -> y: 0 e: 0\n",
      "w : [-0.1868  0.1988]\n",
      "\n",
      "--- Calcula o erro quadrático médio\n",
      "[0 0]: 0.0 \t-> 0 \t [e = 0, MSE = 0]\n",
      "[0 1]: 0.1988 \t-> 0 \t [e = 0, MSE = 0]\n",
      "[1 0]: -0.1868 \t-> 0 \t [e = 0, MSE = 0]\n",
      "[1 1]: 0.01191 \t-> 0 \t [e = 1, MSE = 1]\n",
      "MSE = 0.5\n",
      "\n",
      "---------- Iteracao:  2\n",
      "x: [0 1] w: [-0.1868  0.1988] \t sum: 0.1988 \t -> y: 0 e: 0\n",
      "w : [-0.1868  0.1988]\n",
      "x: [1 1] w: [-0.1868  0.1988] \t sum: 0.01191 \t -> y: 0 e: 1\n",
      "w : [0.0132 0.3988]\n",
      "x: [0 0] w: [0.0132 0.3988] \t sum: 0.0 \t -> y: 0 e: 0\n",
      "w : [0.0132 0.3988]\n",
      "x: [1 0] w: [0.0132 0.3988] \t sum: 0.01315 \t -> y: 0 e: 0\n",
      "w : [0.0132 0.3988]\n",
      "\n",
      "--- Calcula o erro quadrático médio\n",
      "[0 0]: 0.0 \t-> 0 \t [e = 0, MSE = 0]\n",
      "[0 1]: 0.3988 \t-> 0 \t [e = 0, MSE = 0]\n",
      "[1 0]: 0.01315 \t-> 0 \t [e = 0, MSE = 0]\n",
      "[1 1]: 0.4119 \t-> 0 \t [e = 1, MSE = 1]\n",
      "MSE = 0.5\n",
      "\n",
      "---------- Iteracao:  3\n",
      "x: [0 1] w: [0.0132 0.3988] \t sum: 0.3988 \t -> y: 0 e: 0\n",
      "w : [0.0132 0.3988]\n",
      "x: [0 1] w: [0.0132 0.3988] \t sum: 0.3988 \t -> y: 0 e: 0\n",
      "w : [0.0132 0.3988]\n",
      "x: [0 0] w: [0.0132 0.3988] \t sum: 0.0 \t -> y: 0 e: 0\n",
      "w : [0.0132 0.3988]\n",
      "x: [0 0] w: [0.0132 0.3988] \t sum: 0.0 \t -> y: 0 e: 0\n",
      "w : [0.0132 0.3988]\n",
      "\n",
      "--- Calcula o erro quadrático médio\n",
      "[0 0]: 0.0 \t-> 0 \t [e = 0, MSE = 0]\n",
      "[0 1]: 0.3988 \t-> 0 \t [e = 0, MSE = 0]\n",
      "[1 0]: 0.01315 \t-> 0 \t [e = 0, MSE = 0]\n",
      "[1 1]: 0.4119 \t-> 0 \t [e = 1, MSE = 1]\n",
      "MSE = 0.5\n",
      "\n",
      "---------- Iteracao:  4\n",
      "x: [0 1] w: [0.0132 0.3988] \t sum: 0.3988 \t -> y: 0 e: 0\n",
      "w : [0.0132 0.3988]\n",
      "x: [0 1] w: [0.0132 0.3988] \t sum: 0.3988 \t -> y: 0 e: 0\n",
      "w : [0.0132 0.3988]\n",
      "x: [1 0] w: [0.0132 0.3988] \t sum: 0.01315 \t -> y: 0 e: 0\n",
      "w : [0.0132 0.3988]\n",
      "x: [1 1] w: [0.0132 0.3988] \t sum: 0.4119 \t -> y: 0 e: 1\n",
      "w : [0.2132 0.5988]\n",
      "\n",
      "--- Calcula o erro quadrático médio\n",
      "[0 0]: 0.0 \t-> 0 \t [e = 0, MSE = 0]\n",
      "[0 1]: 0.5988 \t-> 1 \t [e = -1, MSE = 1]\n",
      "[1 0]: 0.2132 \t-> 0 \t [e = 0, MSE = 1]\n",
      "[1 1]: 0.8119 \t-> 1 \t [e = 0, MSE = 1]\n",
      "MSE = 0.5\n",
      "\n",
      "---------- Iteracao:  5\n",
      "x: [1 1] w: [0.2132 0.5988] \t sum: 0.8119 \t -> y: 1 e: 0\n",
      "w : [0.2132 0.5988]\n",
      "x: [0 1] w: [0.2132 0.5988] \t sum: 0.5988 \t -> y: 1 e: -1\n",
      "w : [0.2132 0.3988]\n",
      "x: [1 1] w: [0.2132 0.3988] \t sum: 0.6119 \t -> y: 1 e: 0\n",
      "w : [0.2132 0.3988]\n",
      "x: [0 1] w: [0.2132 0.3988] \t sum: 0.3988 \t -> y: 0 e: 0\n",
      "w : [0.2132 0.3988]\n",
      "\n",
      "--- Calcula o erro quadrático médio\n",
      "[0 0]: 0.0 \t-> 0 \t [e = 0, MSE = 0]\n",
      "[0 1]: 0.3988 \t-> 0 \t [e = 0, MSE = 0]\n",
      "[1 0]: 0.2132 \t-> 0 \t [e = 0, MSE = 0]\n",
      "[1 1]: 0.6119 \t-> 1 \t [e = 0, MSE = 0]\n",
      "MSE = 0.0\n"
     ]
    }
   ],
   "source": [
    "# Realiza o laço enquanto MSE é alto ou se é a primeira iteração\n",
    "while MSE > STOP or it == 0:\n",
    "    it = it + 1\n",
    "    print('\\n---------- Iteracao: ',it)\n",
    "    for i in range(4):\n",
    "        # Seleciona uma amostra aleatória da base de dados\n",
    "        x, d = choice(training_data)\n",
    "        # Realiza a operação de soma do perceptron\n",
    "        sum = dot(w, x)\n",
    "        # Aplica a somatória na função de ativação\n",
    "        y = unit_step(sum)\n",
    "        # Calcula o erro\n",
    "        e = d - y\n",
    "        # Imprime os dados\n",
    "        print(\"x: {} w: {} \\t sum: {:.4} \\t -> y: {} e: {}\".format(x, w, sum, y, e))\n",
    "        # Realiza o ajuste dos pesos do perceptron\n",
    "        w += a * e * x\n",
    "        # Imprime o peso corrigido\n",
    "        print('w : {}'.format(w))\n",
    "        # Apresenta os resultados \n",
    "        \n",
    "    # Apos treinar com toda base de dados calcula o MSE\n",
    "    print('\\n--- Calcula o erro quadrático médio')\n",
    "    MSE = 0\n",
    "    for i in range(4):\n",
    "        # Seleciona uma amostra sequencial da base de dados\n",
    "        x, d = training_data[i]\n",
    "        # Realiza a operação de soma do perceptron\n",
    "        sum = dot(w, x)\n",
    "        # Aplica a somatória na função de ativação\n",
    "        y = unit_step(sum)\n",
    "        # Calcula o erro do perceptron\n",
    "        e = d - y\n",
    "        # Calcula o erro quadrático médio\n",
    "        MSE = MSE + e*e\n",
    "        # Apresenta os resultados \n",
    "        print(\"{}: {:.4} \\t-> {} \\t [e = {}, MSE = {}]\".format(x, sum, y, e, MSE))\n",
    "    # O erro quadrático médio é multiplicado por 1/2\n",
    "    MSE = MSE*0.5\n",
    "    print(\"MSE = {:.4}\".format(MSE))\n",
    "    time.sleep(2)"
   ]
  },
  {
   "cell_type": "markdown",
   "metadata": {},
   "source": [
    "<h2> Etapa de Testes </h2> "
   ]
  },
  {
   "cell_type": "code",
   "execution_count": 8,
   "metadata": {},
   "outputs": [
    {
     "name": "stdout",
     "output_type": "stream",
     "text": [
      "[0 0]:    0.0 \t-> 0\n",
      "[0 1]:    0.4 \t-> 0\n",
      "[1 0]:   0.21 \t-> 0\n",
      "[1 1]:   0.61 \t-> 1\n"
     ]
    }
   ],
   "source": [
    "# Para cada amostra da base de treinamento\n",
    "for x, _ in test_data:\n",
    "    # Realiza a operação de somatória\n",
    "    sum = dot(x, w)\n",
    "    # Calcula a saída do perceptron\n",
    "    y = unit_step(sum)\n",
    "    # Imprime os resultados\n",
    "    print(\"{}: {:6} \\t-> {}\".format(x, round(sum,2), y))"
   ]
  }
 ],
 "metadata": {
  "kernelspec": {
   "display_name": "Python 3",
   "language": "python",
   "name": "python3"
  },
  "language_info": {
   "codemirror_mode": {
    "name": "ipython",
    "version": 3
   },
   "file_extension": ".py",
   "mimetype": "text/x-python",
   "name": "python",
   "nbconvert_exporter": "python",
   "pygments_lexer": "ipython3",
   "version": "3.6.5"
  }
 },
 "nbformat": 4,
 "nbformat_minor": 2
}
